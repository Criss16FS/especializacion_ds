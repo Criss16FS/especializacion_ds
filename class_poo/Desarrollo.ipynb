{
 "cells": [
  {
   "cell_type": "markdown",
   "metadata": {},
   "source": [
    "# Desarrollo de todas las actividades"
   ]
  },
  {
   "cell_type": "markdown",
   "metadata": {},
   "source": [
    "## Definicion de Clases\n",
    "\n",
    "### Desarrollo"
   ]
  },
  {
   "cell_type": "code",
   "execution_count": 1,
   "metadata": {},
   "outputs": [],
   "source": [
    "## Punto 1\n",
    "\n",
    "class CuentaBancaria:\n",
    "  def __init__(self, nombre_titular: str, nombre_banco: str):\n",
    "    self.nombre = nombre_titular\n",
    "    self.banco = nombre_banco\n",
    "\n",
    "  # Metodo\n",
    "  def mostrar_informacion(self):\n",
    "    print(f\"Información de la Cuenta:\")\n",
    "    print(f\"  -> Titular: {self.nombre}\")\n",
    "    print(f\"  -> Banco: {self.banco}\")\n"
   ]
  },
  {
   "cell_type": "code",
   "execution_count": 2,
   "metadata": {},
   "outputs": [
    {
     "name": "stdout",
     "output_type": "stream",
     "text": [
      "Creando una cuenta de ahorros...\n",
      "Información de la Cuenta:\n",
      "  -> Titular: Cristian Avila\n",
      "  -> Banco: Bancolombia\n",
      "\n",
      "Creando una cuenta corriente...\n",
      "Información de la Cuenta:\n",
      "  -> Titular: Maria Isabel\n",
      "  -> Banco: Nu bank\n"
     ]
    }
   ],
   "source": [
    "# Le pasamos los valores para los atributos que definimos en __init__.\n",
    "print(\"Creando una cuenta de ahorros...\")\n",
    "mi_cuenta_ahorros = CuentaBancaria(nombre_titular=\"Cristian Avila\", nombre_banco=\"Bancolombia\")\n",
    "\n",
    "# Uso del metodo.\n",
    "mi_cuenta_ahorros.mostrar_informacion()\n",
    "\n",
    "print(\"\\nCreando una cuenta corriente...\")\n",
    "mi_cuenta_corriente = CuentaBancaria(nombre_titular=\"Maria Isabel\", nombre_banco=\"Nu bank\")\n",
    "mi_cuenta_corriente.mostrar_informacion()"
   ]
  },
  {
   "cell_type": "code",
   "execution_count": 3,
   "metadata": {},
   "outputs": [],
   "source": [
    "## Punto 2\n",
    "class Ingresos:\n",
    "\n",
    "  def __init__(self):\n",
    "    self.montos = []\n",
    "    print(\"Objeto de Ingresos creado. ¡Listo para registrar montos!\")\n",
    "\n",
    "  def agregar_ingreso(self, monto: float):\n",
    "    if monto > 0:\n",
    "      self.montos.append(monto)\n",
    "      print(f\"  -> Ingreso de ${monto:,.2f} agregado.\")\n",
    "    else:\n",
    "      print(\"  -> Error: El monto del ingreso debe ser positivo.\")\n",
    "\n",
    "  # NUEVO MÉTODO\n",
    "  def calcular_promedio(self):\n",
    "    total_ingresos = sum(self.montos)\n",
    "    cantidad_ingresos = len(self.montos)\n",
    "\n",
    "    if cantidad_ingresos == 0:\n",
    "      print(\"Aún no hay ingresos registrados para calcular un promedio.\")\n",
    "      return 0\n",
    "\n",
    "    # Calculamos el promedio\n",
    "    promedio = total_ingresos / cantidad_ingresos\n",
    "    return promedio\n"
   ]
  },
  {
   "cell_type": "code",
   "execution_count": 4,
   "metadata": {},
   "outputs": [
    {
     "name": "stdout",
     "output_type": "stream",
     "text": [
      "Objeto de Ingresos creado. ¡Listo para registrar montos!\n",
      "\n",
      "Registrando los ingresos del mes...\n",
      "  -> Ingreso de $2,500,000.00 agregado.\n",
      "  -> Ingreso de $300,000.00 agregado.\n",
      "  -> Ingreso de $150,000.00 agregado.\n",
      "\n",
      "Calculando el promedio...\n",
      "\n",
      "El promedio de los ingresos registrados es: $983,333.33\n"
     ]
    }
   ],
   "source": [
    "# 2. EJEMPLO DE USO\n",
    "\n",
    "mis_ingresos_mensuales = Ingresos()\n",
    "\n",
    "print(\"\\nRegistrando los ingresos del mes...\")\n",
    "mis_ingresos_mensuales.agregar_ingreso(2500000) # Salario\n",
    "mis_ingresos_mensuales.agregar_ingreso(300000)  # Proyecto freelance\n",
    "mis_ingresos_mensuales.agregar_ingreso(150000)  # Venta de un artículo\n",
    "\n",
    "print(\"\\nCalculando el promedio...\")\n",
    "promedio_obtenido = mis_ingresos_mensuales.calcular_promedio()\n",
    "\n",
    "print(f\"\\nEl promedio de los ingresos registrados es: ${promedio_obtenido:,.2f}\")"
   ]
  },
  {
   "cell_type": "markdown",
   "metadata": {},
   "source": [
    "3. Diferencia entre Atributo de Clase y de Instancia\n",
    "Un atributo de instancia es una variable que pertenece a un objeto específico. Cada objeto o \"instancia\" de la clase tiene su propia copia de ese atributo.\n",
    "Un atributo de clase es una variable que pertenece a la clase misma. Todos los objetos creados a partir de esa clase comparten el mismo atributo.\n",
    "\n",
    "4. Ejemplo de Clase en la Vida Real\n",
    "Usarías una clase en Python para modelar una Factura de Servicios Públicos (como la luz o el agua).\n",
    "- Clase: Factura\n",
    "- Atributos de instancia: empresa (ej. \"Enel\"), monto_a_pagar, fecha_vencimiento, numero_referencia.\n",
    "- Métodos: pagar_factura(), que cambiaría un atributo esta_pagada de False a True, o verificar_vencimiento(), que te diría si la factura ya se pasó de la fecha de pago."
   ]
  },
  {
   "cell_type": "markdown",
   "metadata": {},
   "source": [
    "## Abstracción\n",
    "\n",
    "### Desarrollo"
   ]
  },
  {
   "cell_type": "markdown",
   "metadata": {},
   "source": [
    "https://editor.plantuml.com/uml/RP0n3i9030JxIFc3Eq3y81K5BM-85fz19pddo75e47yd8Ia2elJCxXO-3G6FiTEwsj4vu-xeG3qSf21M348N2-FCAe6wcj6mHVIiAw8ZTN16GqFuUbiIjGrWK_ElG9YtKbXAocbANirqKO-foJaXjU0OeGtb4ejQykBjfxu_B1GzxlXbB2eEtpDAp6EVbLNUNCeVzQghqpG__UCD\n",
    "\n",
    "![Abstracion.png](https://img.plantuml.biz/plantuml/png/RP0n3i9030JxIFc3Eq3y81K5BM-85fz19pddo75e47yd8Ia2elJCxXO-3G6FiTEwsj4vu-xeG3qSf21M348N2-FCAe6wcj6mHVIiAw8ZTN16GqFuUbiIjGrWK_ElG9YtKbXAocbANirqKO-foJaXjU0OeGtb4ejQykBjfxu_B1GzxlXbB2eEtpDAp6EVbLNUNCeVzQghqpG__UCD)"
   ]
  },
  {
   "cell_type": "code",
   "execution_count": 1,
   "metadata": {},
   "outputs": [],
   "source": [
    "# Punto 1\n",
    "class Moto:\n",
    "    # 1. El constructor solo necesita la marca y el modelo\n",
    "    def __init__(self, marca, modelo, año, precio):\n",
    "        self.marca = marca\n",
    "        self.modelo = modelo\n",
    "        self.año = año\n",
    "        self.precio = precio\n",
    "        self.encendido = False\n",
    "\n",
    "    # 2. Un método para encender\n",
    "    def encender(self):\n",
    "        self.encendido = True\n",
    "        print(f\"¡La {self.marca} {self.modelo} se ha encendido!\")\n",
    "\n",
    "    # 3. Un método para apagar\n",
    "    def apagar(self):\n",
    "        self.encendido = False\n",
    "        print(f\"La {self.marca} {self.modelo} se ha apagado.\")\n",
    "\n",
    "    # 4. Un método para ver el estado actual\n",
    "    def mostrar_estado(self):\n",
    "        if self.encendido:\n",
    "            estado_actual = \"Encendida\"\n",
    "        else:\n",
    "            estado_actual = \"Apagada\"\n",
    "\n",
    "        print(f\"-> Moto: {self.marca} {self.modelo} | Año: {self.año} | Precio: {self.precio} | Estado: {estado_actual}\")"
   ]
  },
  {
   "cell_type": "code",
   "execution_count": 2,
   "metadata": {},
   "outputs": [
    {
     "name": "stdout",
     "output_type": "stream",
     "text": [
      "-> Moto: Bajaj Pulsar NS200 | Año: 2025 | Precio: 15.000.000 | Estado: Apagada\n",
      "¡La Bajaj Pulsar NS200 se ha encendido!\n",
      "-> Moto: Bajaj Pulsar NS200 | Año: 2025 | Precio: 15.000.000 | Estado: Encendida\n",
      "La Bajaj Pulsar NS200 se ha apagado.\n",
      "-> Moto: Bajaj Pulsar NS200 | Año: 2025 | Precio: 15.000.000 | Estado: Apagada\n"
     ]
    }
   ],
   "source": [
    "# --- Ejemplo de Uso ---\n",
    "mi_moto = Moto(\"Bajaj\", \"Pulsar NS200\", \"2025\", \"15.000.000\")\n",
    "\n",
    "# Estado inicial\n",
    "mi_moto.mostrar_estado()\n",
    "\n",
    "# Encendemos la moto\n",
    "mi_moto.encender()\n",
    "mi_moto.mostrar_estado()\n",
    "\n",
    "# La volvemos a apagar\n",
    "mi_moto.apagar()\n",
    "mi_moto.mostrar_estado()\n",
    "\n"
   ]
  },
  {
   "cell_type": "markdown",
   "metadata": {},
   "source": [
    "## Interfaces\n",
    "\n",
    "### Desarrollo"
   ]
  },
  {
   "cell_type": "markdown",
   "metadata": {},
   "source": [
    "https://editor.plantuml.com/lPAnJiCm48PtItc7KvSMeVG1Cg1Ai7HWOUWQ7USBM3hxYkDq2F10p3n2NmodYKI3ChFPz_ydV_UVTst2c3elXLd30pSkE7Bdxm2MGH3s8N5ii2-C6q_4i3_mgwDEz56JHjUZLNWl3C0jS20EbcFj1sbpCrRnY2_ujqOi735k24Do5cq5-OL9R2A71UcpCCkKzu8jmrl7uFnHs7D8EAUdx6XX02P7mbcUY3r6mWhQ5AUxMXQzAf2AnfaXJr6FWpgRdS-gCagdt4a3S8sKEfGBzo2jonBy-IkfrNP2dkBieIp_CRed5hm4LysoMFt6jfh1BQowCDUTs-t7tR9hbwV9t-e7\n",
    "\n",
    "![Interfaces.png](https://img.plantuml.biz/plantuml/png/lPAnJiCm48PtItc7KvSMeVG1Cg1Ai7HWOUWQ7USBM3hxYkDq2F10p3n2NmodYKI3ChFPz_ydV_UVTst2c3elXLd30pSkE7Bdxm2MGH3s8N5ii2-C6q_4i3_mgwDEz56JHjUZLNWl3C0jS20EbcFj1sbpCrRnY2_ujqOi735k24Do5cq5-OL9R2A71UcpCCkKzu8jmrl7uFnHs7D8EAUdx6XX02P7mbcUY3r6mWhQ5AUxMXQzAf2AnfaXJr6FWpgRdS-gCagdt4a3S8sKEfGBzo2jonBy-IkfrNP2dkBieIp_CRed5hm4LysoMFt6jfh1BQowCDUTs-t7tR9hbwV9t-e7)"
   ]
  }
 ],
 "metadata": {
  "kernelspec": {
   "display_name": "venv",
   "language": "python",
   "name": "python3"
  },
  "language_info": {
   "codemirror_mode": {
    "name": "ipython",
    "version": 3
   },
   "file_extension": ".py",
   "mimetype": "text/x-python",
   "name": "python",
   "nbconvert_exporter": "python",
   "pygments_lexer": "ipython3",
   "version": "3.13.7"
  }
 },
 "nbformat": 4,
 "nbformat_minor": 2
}
